{
 "cells": [
  {
   "cell_type": "code",
   "execution_count": 1,
   "metadata": {},
   "outputs": [],
   "source": [
    "import os\n",
    "import json\n",
    "from pyspark import SparkContext\n",
    "from pyspark.streaming import StreamingContext\n",
    "from pyspark.streaming.kafka import KafkaUtils"
   ]
  },
  {
   "cell_type": "code",
   "execution_count": 2,
   "metadata": {},
   "outputs": [],
   "source": [
    "# streaming setup\n",
    "os.environ['PYSPARK_SUBMIT_ARGS'] = '--packages org.apache.spark:spark-streaming-kafka-0-8_2.11:2.4.5 pyspark-shell'\n",
    "brokers = \"kafka-1:19091,kafka-2:29091,kafka-3:39091\"\n",
    "kafkaParams = {\"metadata.broker.list\": brokers}\n",
    "topics = [\"CommonStocks\"]\n",
    "sc = SparkContext(\"local[2]\",\"CommonStocks\")\n",
    "ssc = StreamingContext(sc, 300)\n",
    "ssc.checkpoint('/tmp')"
   ]
  },
  {
   "cell_type": "code",
   "execution_count": 3,
   "metadata": {},
   "outputs": [],
   "source": [
    "# read & process\n",
    "kafka_raw_stream = KafkaUtils.createDirectStream(ssc, topics, kafkaParams)\n",
    "kafka_maped = kafka_raw_stream.map(lambda x: (json.loads(x[1])[\"SecurityDesc\"], \n",
    "                                              json.loads(x[1])[\"TradedVolume\"]) ) "
   ]
  },
  {
   "cell_type": "code",
   "execution_count": 4,
   "metadata": {},
   "outputs": [],
   "source": [
    "def updateFunction(newValues, runningCount):\n",
    "    if runningCount is None:\n",
    "        runningCount = 0\n",
    "    return sum(newValues, runningCount)\n",
    "kafka_stream_stateful = kafka_maped.updateStateByKey(updateFunction)"
   ]
  },
  {
   "cell_type": "code",
   "execution_count": 5,
   "metadata": {},
   "outputs": [],
   "source": [
    "kafka_stream_stateful.repartition(1).saveAsTextFiles(\"work/outputs/CommonStocks/cumulated-traded-volume\")\n",
    "kafka_stream_stateful.pprint()"
   ]
  },
  {
   "cell_type": "code",
   "execution_count": 6,
   "metadata": {
    "collapsed": true
   },
   "outputs": [
    {
     "name": "stdout",
     "output_type": "stream",
     "text": [
      "-------------------------------------------\n",
      "Time: 2020-06-05 15:35:00\n",
      "-------------------------------------------\n",
      "('MERCK KGAA O.N.', 554)\n",
      "('AROUNDTOWN EO-,01', 6981)\n",
      "('LINDE PLC        EO 0,001', 1069)\n",
      "('AIRBUS', 1176)\n",
      "('BASF SE NA O.N.', 4470)\n",
      "('RWE AG   INH O.N.', 27721)\n",
      "('MPC MUENCH.PET.CAP.', 1043)\n",
      "('SYMRISE AG INH. O.N.', 1402)\n",
      "('XPHYTO THERAPEUTICS', 1500)\n",
      "('QSC AG NA O.N.', 5000)\n",
      "...\n",
      "\n",
      "-------------------------------------------\n",
      "Time: 2020-06-05 15:40:00\n",
      "-------------------------------------------\n",
      "('MERCK KGAA O.N.', 3324)\n",
      "('AROUNDTOWN EO-,01', 41886)\n",
      "('LINDE PLC        EO 0,001', 6414)\n",
      "('AIRBUS', 7056)\n",
      "('BASF SE NA O.N.', 26820)\n",
      "('RWE AG   INH O.N.', 166326)\n",
      "('MPC MUENCH.PET.CAP.', 6258)\n",
      "('SYMRISE AG INH. O.N.', 8412)\n",
      "('XPHYTO THERAPEUTICS', 9000)\n",
      "('QSC AG NA O.N.', 30000)\n",
      "...\n",
      "\n",
      "-------------------------------------------\n",
      "Time: 2020-06-05 15:45:00\n",
      "-------------------------------------------\n",
      "('MERCK KGAA O.N.', 6094)\n",
      "('AROUNDTOWN EO-,01', 76791)\n",
      "('LINDE PLC        EO 0,001', 11759)\n",
      "('AIRBUS', 12936)\n",
      "('BASF SE NA O.N.', 49170)\n",
      "('RWE AG   INH O.N.', 304931)\n",
      "('MPC MUENCH.PET.CAP.', 11473)\n",
      "('SYMRISE AG INH. O.N.', 15422)\n",
      "('XPHYTO THERAPEUTICS', 16500)\n",
      "('QSC AG NA O.N.', 55000)\n",
      "...\n",
      "\n",
      "-------------------------------------------\n",
      "Time: 2020-06-05 15:50:00\n",
      "-------------------------------------------\n",
      "('MERCK KGAA O.N.', 8864)\n",
      "('AROUNDTOWN EO-,01', 111696)\n",
      "('LINDE PLC        EO 0,001', 17104)\n",
      "('AIRBUS', 18816)\n",
      "('BASF SE NA O.N.', 71520)\n",
      "('RWE AG   INH O.N.', 443536)\n",
      "('MPC MUENCH.PET.CAP.', 16688)\n",
      "('SYMRISE AG INH. O.N.', 22432)\n",
      "('XPHYTO THERAPEUTICS', 24000)\n",
      "('QSC AG NA O.N.', 80000)\n",
      "...\n",
      "\n",
      "-------------------------------------------\n",
      "Time: 2020-06-05 15:55:00\n",
      "-------------------------------------------\n",
      "('MERCK KGAA O.N.', 11634)\n",
      "('AROUNDTOWN EO-,01', 146601)\n",
      "('LINDE PLC        EO 0,001', 22449)\n",
      "('AIRBUS', 24696)\n",
      "('BASF SE NA O.N.', 93870)\n",
      "('RWE AG   INH O.N.', 582141)\n",
      "('MPC MUENCH.PET.CAP.', 21903)\n",
      "('SYMRISE AG INH. O.N.', 29442)\n",
      "('XPHYTO THERAPEUTICS', 31500)\n",
      "('QSC AG NA O.N.', 105000)\n",
      "...\n",
      "\n",
      "-------------------------------------------\n",
      "Time: 2020-06-05 16:00:00\n",
      "-------------------------------------------\n",
      "('MERCK KGAA O.N.', 14404)\n",
      "('AROUNDTOWN EO-,01', 181506)\n",
      "('LINDE PLC        EO 0,001', 27794)\n",
      "('AIRBUS', 30576)\n",
      "('BASF SE NA O.N.', 116220)\n",
      "('RWE AG   INH O.N.', 720746)\n",
      "('MPC MUENCH.PET.CAP.', 27118)\n",
      "('SYMRISE AG INH. O.N.', 36452)\n",
      "('XPHYTO THERAPEUTICS', 39000)\n",
      "('QSC AG NA O.N.', 130000)\n",
      "...\n",
      "\n",
      "-------------------------------------------\n",
      "Time: 2020-06-05 16:05:00\n",
      "-------------------------------------------\n",
      "('MERCK KGAA O.N.', 17174)\n",
      "('AROUNDTOWN EO-,01', 216411)\n",
      "('LINDE PLC        EO 0,001', 33139)\n",
      "('AIRBUS', 36456)\n",
      "('BASF SE NA O.N.', 138570)\n",
      "('RWE AG   INH O.N.', 859351)\n",
      "('MPC MUENCH.PET.CAP.', 32333)\n",
      "('SYMRISE AG INH. O.N.', 43462)\n",
      "('XPHYTO THERAPEUTICS', 46500)\n",
      "('QSC AG NA O.N.', 155000)\n",
      "...\n",
      "\n",
      "-------------------------------------------\n",
      "Time: 2020-06-05 16:10:00\n",
      "-------------------------------------------\n",
      "('MERCK KGAA O.N.', 19944)\n",
      "('AROUNDTOWN EO-,01', 251316)\n",
      "('LINDE PLC        EO 0,001', 38484)\n",
      "('AIRBUS', 42336)\n",
      "('BASF SE NA O.N.', 160920)\n",
      "('RWE AG   INH O.N.', 997956)\n",
      "('MPC MUENCH.PET.CAP.', 37548)\n",
      "('SYMRISE AG INH. O.N.', 50472)\n",
      "('XPHYTO THERAPEUTICS', 54000)\n",
      "('QSC AG NA O.N.', 180000)\n",
      "...\n",
      "\n"
     ]
    },
    {
     "ename": "KeyboardInterrupt",
     "evalue": "",
     "output_type": "error",
     "traceback": [
      "\u001b[0;31m---------------------------------------------------------------------------\u001b[0m",
      "\u001b[0;31mKeyboardInterrupt\u001b[0m                         Traceback (most recent call last)",
      "\u001b[0;32m<ipython-input-19-d9a5cad3daa2>\u001b[0m in \u001b[0;36m<module>\u001b[0;34m\u001b[0m\n\u001b[1;32m      1\u001b[0m \u001b[0mssc\u001b[0m\u001b[0;34m.\u001b[0m\u001b[0mstart\u001b[0m\u001b[0;34m(\u001b[0m\u001b[0;34m)\u001b[0m             \u001b[0;31m# Start the computation\u001b[0m\u001b[0;34m\u001b[0m\u001b[0;34m\u001b[0m\u001b[0m\n\u001b[0;32m----> 2\u001b[0;31m \u001b[0mssc\u001b[0m\u001b[0;34m.\u001b[0m\u001b[0mawaitTermination\u001b[0m\u001b[0;34m(\u001b[0m\u001b[0;34m)\u001b[0m  \u001b[0;31m# Wait for the computation to terminate\u001b[0m\u001b[0;34m\u001b[0m\u001b[0;34m\u001b[0m\u001b[0m\n\u001b[0m",
      "\u001b[0;32m/usr/local/spark/python/pyspark/streaming/context.py\u001b[0m in \u001b[0;36mawaitTermination\u001b[0;34m(self, timeout)\u001b[0m\n\u001b[1;32m    190\u001b[0m         \"\"\"\n\u001b[1;32m    191\u001b[0m         \u001b[0;32mif\u001b[0m \u001b[0mtimeout\u001b[0m \u001b[0;32mis\u001b[0m \u001b[0;32mNone\u001b[0m\u001b[0;34m:\u001b[0m\u001b[0;34m\u001b[0m\u001b[0;34m\u001b[0m\u001b[0m\n\u001b[0;32m--> 192\u001b[0;31m             \u001b[0mself\u001b[0m\u001b[0;34m.\u001b[0m\u001b[0m_jssc\u001b[0m\u001b[0;34m.\u001b[0m\u001b[0mawaitTermination\u001b[0m\u001b[0;34m(\u001b[0m\u001b[0;34m)\u001b[0m\u001b[0;34m\u001b[0m\u001b[0;34m\u001b[0m\u001b[0m\n\u001b[0m\u001b[1;32m    193\u001b[0m         \u001b[0;32melse\u001b[0m\u001b[0;34m:\u001b[0m\u001b[0;34m\u001b[0m\u001b[0;34m\u001b[0m\u001b[0m\n\u001b[1;32m    194\u001b[0m             \u001b[0mself\u001b[0m\u001b[0;34m.\u001b[0m\u001b[0m_jssc\u001b[0m\u001b[0;34m.\u001b[0m\u001b[0mawaitTerminationOrTimeout\u001b[0m\u001b[0;34m(\u001b[0m\u001b[0mint\u001b[0m\u001b[0;34m(\u001b[0m\u001b[0mtimeout\u001b[0m \u001b[0;34m*\u001b[0m \u001b[0;36m1000\u001b[0m\u001b[0;34m)\u001b[0m\u001b[0;34m)\u001b[0m\u001b[0;34m\u001b[0m\u001b[0;34m\u001b[0m\u001b[0m\n",
      "\u001b[0;32m/usr/local/spark/python/lib/py4j-0.10.7-src.zip/py4j/java_gateway.py\u001b[0m in \u001b[0;36m__call__\u001b[0;34m(self, *args)\u001b[0m\n\u001b[1;32m   1253\u001b[0m             \u001b[0mproto\u001b[0m\u001b[0;34m.\u001b[0m\u001b[0mEND_COMMAND_PART\u001b[0m\u001b[0;34m\u001b[0m\u001b[0;34m\u001b[0m\u001b[0m\n\u001b[1;32m   1254\u001b[0m \u001b[0;34m\u001b[0m\u001b[0m\n\u001b[0;32m-> 1255\u001b[0;31m         \u001b[0manswer\u001b[0m \u001b[0;34m=\u001b[0m \u001b[0mself\u001b[0m\u001b[0;34m.\u001b[0m\u001b[0mgateway_client\u001b[0m\u001b[0;34m.\u001b[0m\u001b[0msend_command\u001b[0m\u001b[0;34m(\u001b[0m\u001b[0mcommand\u001b[0m\u001b[0;34m)\u001b[0m\u001b[0;34m\u001b[0m\u001b[0;34m\u001b[0m\u001b[0m\n\u001b[0m\u001b[1;32m   1256\u001b[0m         return_value = get_return_value(\n\u001b[1;32m   1257\u001b[0m             answer, self.gateway_client, self.target_id, self.name)\n",
      "\u001b[0;32m/usr/local/spark/python/lib/py4j-0.10.7-src.zip/py4j/java_gateway.py\u001b[0m in \u001b[0;36msend_command\u001b[0;34m(self, command, retry, binary)\u001b[0m\n\u001b[1;32m    983\u001b[0m         \u001b[0mconnection\u001b[0m \u001b[0;34m=\u001b[0m \u001b[0mself\u001b[0m\u001b[0;34m.\u001b[0m\u001b[0m_get_connection\u001b[0m\u001b[0;34m(\u001b[0m\u001b[0;34m)\u001b[0m\u001b[0;34m\u001b[0m\u001b[0;34m\u001b[0m\u001b[0m\n\u001b[1;32m    984\u001b[0m         \u001b[0;32mtry\u001b[0m\u001b[0;34m:\u001b[0m\u001b[0;34m\u001b[0m\u001b[0;34m\u001b[0m\u001b[0m\n\u001b[0;32m--> 985\u001b[0;31m             \u001b[0mresponse\u001b[0m \u001b[0;34m=\u001b[0m \u001b[0mconnection\u001b[0m\u001b[0;34m.\u001b[0m\u001b[0msend_command\u001b[0m\u001b[0;34m(\u001b[0m\u001b[0mcommand\u001b[0m\u001b[0;34m)\u001b[0m\u001b[0;34m\u001b[0m\u001b[0;34m\u001b[0m\u001b[0m\n\u001b[0m\u001b[1;32m    986\u001b[0m             \u001b[0;32mif\u001b[0m \u001b[0mbinary\u001b[0m\u001b[0;34m:\u001b[0m\u001b[0;34m\u001b[0m\u001b[0;34m\u001b[0m\u001b[0m\n\u001b[1;32m    987\u001b[0m                 \u001b[0;32mreturn\u001b[0m \u001b[0mresponse\u001b[0m\u001b[0;34m,\u001b[0m \u001b[0mself\u001b[0m\u001b[0;34m.\u001b[0m\u001b[0m_create_connection_guard\u001b[0m\u001b[0;34m(\u001b[0m\u001b[0mconnection\u001b[0m\u001b[0;34m)\u001b[0m\u001b[0;34m\u001b[0m\u001b[0;34m\u001b[0m\u001b[0m\n",
      "\u001b[0;32m/usr/local/spark/python/lib/py4j-0.10.7-src.zip/py4j/java_gateway.py\u001b[0m in \u001b[0;36msend_command\u001b[0;34m(self, command)\u001b[0m\n\u001b[1;32m   1150\u001b[0m \u001b[0;34m\u001b[0m\u001b[0m\n\u001b[1;32m   1151\u001b[0m         \u001b[0;32mtry\u001b[0m\u001b[0;34m:\u001b[0m\u001b[0;34m\u001b[0m\u001b[0;34m\u001b[0m\u001b[0m\n\u001b[0;32m-> 1152\u001b[0;31m             \u001b[0manswer\u001b[0m \u001b[0;34m=\u001b[0m \u001b[0msmart_decode\u001b[0m\u001b[0;34m(\u001b[0m\u001b[0mself\u001b[0m\u001b[0;34m.\u001b[0m\u001b[0mstream\u001b[0m\u001b[0;34m.\u001b[0m\u001b[0mreadline\u001b[0m\u001b[0;34m(\u001b[0m\u001b[0;34m)\u001b[0m\u001b[0;34m[\u001b[0m\u001b[0;34m:\u001b[0m\u001b[0;34m-\u001b[0m\u001b[0;36m1\u001b[0m\u001b[0;34m]\u001b[0m\u001b[0;34m)\u001b[0m\u001b[0;34m\u001b[0m\u001b[0;34m\u001b[0m\u001b[0m\n\u001b[0m\u001b[1;32m   1153\u001b[0m             \u001b[0mlogger\u001b[0m\u001b[0;34m.\u001b[0m\u001b[0mdebug\u001b[0m\u001b[0;34m(\u001b[0m\u001b[0;34m\"Answer received: {0}\"\u001b[0m\u001b[0;34m.\u001b[0m\u001b[0mformat\u001b[0m\u001b[0;34m(\u001b[0m\u001b[0manswer\u001b[0m\u001b[0;34m)\u001b[0m\u001b[0;34m)\u001b[0m\u001b[0;34m\u001b[0m\u001b[0;34m\u001b[0m\u001b[0m\n\u001b[1;32m   1154\u001b[0m             \u001b[0;32mif\u001b[0m \u001b[0manswer\u001b[0m\u001b[0;34m.\u001b[0m\u001b[0mstartswith\u001b[0m\u001b[0;34m(\u001b[0m\u001b[0mproto\u001b[0m\u001b[0;34m.\u001b[0m\u001b[0mRETURN_MESSAGE\u001b[0m\u001b[0;34m)\u001b[0m\u001b[0;34m:\u001b[0m\u001b[0;34m\u001b[0m\u001b[0;34m\u001b[0m\u001b[0m\n",
      "\u001b[0;32m/opt/conda/lib/python3.7/socket.py\u001b[0m in \u001b[0;36mreadinto\u001b[0;34m(self, b)\u001b[0m\n\u001b[1;32m    587\u001b[0m         \u001b[0;32mwhile\u001b[0m \u001b[0;32mTrue\u001b[0m\u001b[0;34m:\u001b[0m\u001b[0;34m\u001b[0m\u001b[0;34m\u001b[0m\u001b[0m\n\u001b[1;32m    588\u001b[0m             \u001b[0;32mtry\u001b[0m\u001b[0;34m:\u001b[0m\u001b[0;34m\u001b[0m\u001b[0;34m\u001b[0m\u001b[0m\n\u001b[0;32m--> 589\u001b[0;31m                 \u001b[0;32mreturn\u001b[0m \u001b[0mself\u001b[0m\u001b[0;34m.\u001b[0m\u001b[0m_sock\u001b[0m\u001b[0;34m.\u001b[0m\u001b[0mrecv_into\u001b[0m\u001b[0;34m(\u001b[0m\u001b[0mb\u001b[0m\u001b[0;34m)\u001b[0m\u001b[0;34m\u001b[0m\u001b[0;34m\u001b[0m\u001b[0m\n\u001b[0m\u001b[1;32m    590\u001b[0m             \u001b[0;32mexcept\u001b[0m \u001b[0mtimeout\u001b[0m\u001b[0;34m:\u001b[0m\u001b[0;34m\u001b[0m\u001b[0;34m\u001b[0m\u001b[0m\n\u001b[1;32m    591\u001b[0m                 \u001b[0mself\u001b[0m\u001b[0;34m.\u001b[0m\u001b[0m_timeout_occurred\u001b[0m \u001b[0;34m=\u001b[0m \u001b[0;32mTrue\u001b[0m\u001b[0;34m\u001b[0m\u001b[0;34m\u001b[0m\u001b[0m\n",
      "\u001b[0;31mKeyboardInterrupt\u001b[0m: "
     ]
    }
   ],
   "source": [
    "ssc.start()             # Start the computation\n",
    "ssc.awaitTermination()  # Wait for the computation to terminate"
   ]
  },
  {
   "cell_type": "code",
   "execution_count": null,
   "metadata": {
    "collapsed": true
   },
   "outputs": [
    {
     "name": "stdout",
     "output_type": "stream",
     "text": [
      "-------------------------------------------\n",
      "Time: 2020-06-05 16:15:00\n",
      "-------------------------------------------\n",
      "('MERCK KGAA O.N.', 21606)\n",
      "('AROUNDTOWN EO-,01', 272259)\n",
      "('LINDE PLC        EO 0,001', 41691)\n",
      "('AIRBUS', 45864)\n",
      "('BASF SE NA O.N.', 174330)\n",
      "('RWE AG   INH O.N.', 1081119)\n",
      "('MPC MUENCH.PET.CAP.', 40677)\n",
      "('SYMRISE AG INH. O.N.', 54678)\n",
      "('XPHYTO THERAPEUTICS', 58500)\n",
      "('QSC AG NA O.N.', 195000)\n",
      "...\n",
      "\n"
     ]
    }
   ],
   "source": [
    "ssc.stop(True,True)"
   ]
  },
  {
   "cell_type": "code",
   "execution_count": null,
   "metadata": {},
   "outputs": [],
   "source": []
  }
 ],
 "metadata": {
  "kernelspec": {
   "display_name": "Python 3",
   "language": "python",
   "name": "python3"
  },
  "language_info": {
   "codemirror_mode": {
    "name": "ipython",
    "version": 3
   },
   "file_extension": ".py",
   "mimetype": "text/x-python",
   "name": "python",
   "nbconvert_exporter": "python",
   "pygments_lexer": "ipython3",
   "version": "3.7.6"
  }
 },
 "nbformat": 4,
 "nbformat_minor": 4
}
