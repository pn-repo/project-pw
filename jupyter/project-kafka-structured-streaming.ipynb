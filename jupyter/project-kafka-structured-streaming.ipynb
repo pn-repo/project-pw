{
 "cells": [
  {
   "cell_type": "code",
   "execution_count": null,
   "metadata": {},
   "outputs": [],
   "source": [
    "import os\n",
    "from pyspark.sql import SparkSession\n",
    "from pyspark.sql import functions as f\n",
    "from pyspark.sql.types import StructType, StructField, StringType, IntegerType, FloatType"
   ]
  },
  {
   "cell_type": "code",
   "execution_count": null,
   "metadata": {},
   "outputs": [],
   "source": [
    "os.environ['PYSPARK_SUBMIT_ARGS'] = '--packages org.apache.spark:spark-sql-kafka-0-10_2.11:2.4.5 pyspark-shell'"
   ]
  },
  {
   "cell_type": "code",
   "execution_count": null,
   "metadata": {},
   "outputs": [],
   "source": [
    "kafkaBootstrapServers = \"kafka-1:19091,kafka-2:29091,kafka-3:39091\"\n",
    "kafkaTopics = \"a\""
   ]
  },
  {
   "cell_type": "code",
   "execution_count": null,
   "metadata": {},
   "outputs": [],
   "source": [
    "# Create Spark session\n",
    "spark = SparkSession \\\n",
    "    .builder \\\n",
    "    .appName(\"StructuredKafka\") \\\n",
    "    .getOrCreate()"
   ]
  },
  {
   "cell_type": "code",
   "execution_count": null,
   "metadata": {},
   "outputs": [],
   "source": [
    "spark"
   ]
  },
  {
   "cell_type": "code",
   "execution_count": null,
   "metadata": {},
   "outputs": [],
   "source": [
    "# Subscribe to 1 topic\n",
    "kafka_raw_stream = spark \\\n",
    "  .readStream \\\n",
    "  .format(\"kafka\") \\\n",
    "  .option(\"kafka.bootstrap.servers\", kafkaBootstrapServers) \\\n",
    "  .option(\"subscribe\", kafkaTopics) \\\n",
    "  .load()"
   ]
  },
  {
   "cell_type": "code",
   "execution_count": null,
   "metadata": {},
   "outputs": [],
   "source": [
    "kafka_stream = kafka_raw_stream.selectExpr(\"CAST(key as String)\", \"CAST(value as String)\")"
   ]
  },
  {
   "cell_type": "code",
   "execution_count": null,
   "metadata": {},
   "outputs": [],
   "source": [
    "schema = StructType([StructField(\"ISIN\", StringType()), \n",
    "                     StructField(\"Mnemonic\", StringType()),\n",
    "                     StructField(\"SecurityDesc\", StringType()), \n",
    "                     StructField(\"SecurityType\", StringType()),\n",
    "                     StructField(\"Currency\", StringType()),\n",
    "                     StructField(\"SecurityID\", IntegerType()),\n",
    "                     StructField(\"Date\", StringType()),\n",
    "                     StructField(\"Time\", StringType()), \n",
    "                     StructField(\"StartPrice\",FloatType()),\n",
    "                     StructField(\"MaxPrice\",FloatType()),\n",
    "                     StructField(\"MinPrice\",FloatType()),\n",
    "                     StructField(\"EndPrice\",FloatType()),\n",
    "                     StructField(\"TradedVolume\", IntegerType()), \n",
    "                     StructField(\"NumberOfTrades\", IntegerType())])\n",
    "\n",
    "parsed = kafka_stream\\\n",
    "  .select(f.from_json(kafka_stream[1].cast(\"string\"), schema).alias(\"json\"))\\\n",
    "  .select(f.col(\"json\").getField(\"ISIN\").alias(\"ISIN\"), \n",
    "          f.col(\"json\").getField(\"Mnemonic\").alias(\"Mnemonic\"), \n",
    "          f.col(\"json\").getField(\"SecurityDesc\").alias(\"SecurityDesc\"),\n",
    "          f.col(\"json\").getField(\"SecurityType\").alias(\"SecurityType\"), \n",
    "          f.col(\"json\").getField(\"Currency\").alias(\"Currency\"), \n",
    "          f.col(\"json\").getField(\"SecurityID\").alias(\"SecurityID\"),\n",
    "          f.col(\"json\").getField(\"Date\").alias(\"Date\"), \n",
    "          f.col(\"json\").getField(\"Time\").alias(\"Time\"), \n",
    "          f.col(\"json\").getField(\"StartPrice\").alias(\"StartPrice\"),\n",
    "          f.col(\"json\").getField(\"MaxPrice\").alias(\"MaxPrice\"), \n",
    "          f.col(\"json\").getField(\"MinPrice\").alias(\"MinPrice\"), \n",
    "          f.col(\"json\").getField(\"EndPrice\").alias(\"EndPrice\"), \n",
    "          f.col(\"json\").getField(\"TradedVolume\").alias(\"TradedVolume\"), \n",
    "          f.col(\"json\").getField(\"NumberOfTrades\").alias(\"NumberOfTrades\"))"
   ]
  },
  {
   "cell_type": "code",
   "execution_count": null,
   "metadata": {},
   "outputs": [],
   "source": [
    "# count = parsed.groupBy([\"SecurityType\",\"Currency\"]).count()"
   ]
  },
  {
   "cell_type": "code",
   "execution_count": null,
   "metadata": {},
   "outputs": [],
   "source": [
    "query = parsed \\\n",
    ".writeStream \\\n",
    ".outputMode(\"append\") \\\n",
    ".format(\"kafka\") \\\n",
    ".option(\"kafka.bootstrap.servers\", kafkaBootstrapServers) \\\n",
    ".option(\"topic\", \"moj_temat\") \\\n",
    ".option(\"checkpointLocation\", \"/tmp\") \\\n",
    ".start()"
   ]
  },
  {
   "cell_type": "code",
   "execution_count": null,
   "metadata": {},
   "outputs": [],
   "source": [
    "from pyspark import  SparkContext\n",
    "sc = SparkContext.getOrCreate()"
   ]
  },
  {
   "cell_type": "code",
   "execution_count": null,
   "metadata": {},
   "outputs": [],
   "source": [
    "sc.stop()"
   ]
  },
  {
   "cell_type": "code",
   "execution_count": null,
   "metadata": {},
   "outputs": [],
   "source": [
    "#query.awaitTermination()\n",
    "query.stop()\n"
   ]
  },
  {
   "cell_type": "code",
   "execution_count": null,
   "metadata": {},
   "outputs": [],
   "source": []
  }
 ],
 "metadata": {
  "kernelspec": {
   "display_name": "Python 3",
   "language": "python",
   "name": "python3"
  },
  "language_info": {
   "codemirror_mode": {
    "name": "ipython",
    "version": 3
   },
   "file_extension": ".py",
   "mimetype": "text/x-python",
   "name": "python",
   "nbconvert_exporter": "python",
   "pygments_lexer": "ipython3",
   "version": "3.7.6"
  }
 },
 "nbformat": 4,
 "nbformat_minor": 4
}
